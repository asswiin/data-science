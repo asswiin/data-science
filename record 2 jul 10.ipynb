{
 "cells": [
  {
   "cell_type": "code",
   "execution_count": 13,
   "id": "70d06ed0",
   "metadata": {},
   "outputs": [
    {
     "name": "stdout",
     "output_type": "stream",
     "text": [
      "Matrix Operation\n",
      "Matrix A : \n",
      " [[1 2]\n",
      " [3 4]]\n",
      "Matrix B : \n",
      " [[5 6]\n",
      " [7 8]]\n",
      "Matrix Addition : \n",
      " [[ 6  8]\n",
      " [10 12]]\n",
      "Matrix Subtraction : \n",
      " [[4 4]\n",
      " [4 4]]\n",
      "Matrix Multiplication : \n",
      " [[19 22]\n",
      " [43 50]]\n",
      "Transpose : \n",
      " [[1 3]\n",
      " [2 4]]\n",
      "Transpose : \n",
      " [[5 7]\n",
      " [6 8]]\n"
     ]
    }
   ],
   "source": [
    "import numpy as np\n",
    "\n",
    "A=np.array([[1,2],[3,4]])\n",
    "B=np.array([[5,6],[7,8]])\n",
    "print(\"Matrix Operation\")\n",
    "print(f\"Matrix A : \\n {A}\")\n",
    "print(f\"Matrix B : \\n {B}\")\n",
    "\n",
    "print(\"Matrix Addition : \\n\",A + B)\n",
    "print(\"Matrix Subtraction : \\n\",B - A)\n",
    "print(\"Matrix Multiplication : \\n\",np.dot(A,B))\n",
    "print(\"Transpose : \\n\",A.T)\n",
    "print(\"Transpose : \\n\",B.T)"
   ]
  },
  {
   "cell_type": "code",
   "execution_count": null,
   "id": "04c5ff4b",
   "metadata": {},
   "outputs": [],
   "source": []
  },
  {
   "cell_type": "code",
   "execution_count": null,
   "id": "5d8f8ef3",
   "metadata": {},
   "outputs": [],
   "source": []
  }
 ],
 "metadata": {
  "kernelspec": {
   "display_name": "Python 3 (ipykernel)",
   "language": "python",
   "name": "python3"
  },
  "language_info": {
   "codemirror_mode": {
    "name": "ipython",
    "version": 3
   },
   "file_extension": ".py",
   "mimetype": "text/x-python",
   "name": "python",
   "nbconvert_exporter": "python",
   "pygments_lexer": "ipython3",
   "version": "3.11.5"
  }
 },
 "nbformat": 4,
 "nbformat_minor": 5
}
