{
 "cells": [
  {
   "cell_type": "code",
   "execution_count": 10,
   "id": "f598f98f",
   "metadata": {},
   "outputs": [
    {
     "name": "stdout",
     "output_type": "stream",
     "text": [
      "Enter number 1 : 10\n",
      "Enter number 2 : 6\n",
      "Arthmetic operations\n",
      "sum : 16\n",
      "difference :  4\n",
      "multiplication :  60\n",
      "division :  1.6666666666666667\n",
      "mod :  4\n"
     ]
    }
   ],
   "source": [
    "#Arthmetic operations\n",
    "\n",
    "a=int(input(\"Enter number 1 : \"))\n",
    "b=int(input(\"Enter number 2 : \"))\n",
    "print(\"Arthmetic operations\")\n",
    "print(\"sum :\",a+b)\n",
    "print(\"difference : \",a-b)\n",
    "print(\"multiplication : \",a*b)\n",
    "print(\"division : \",a/b)\n",
    "print(\"mod : \",a%b)\n"
   ]
  },
  {
   "cell_type": "code",
   "execution_count": 46,
   "id": "48e2cf9e",
   "metadata": {},
   "outputs": [
    {
     "name": "stdout",
     "output_type": "stream",
     "text": [
      "list :  [1, 2, 3, 4, 5, 6, 7, 8, 9]\n",
      "sum of list :  45\n",
      "adding '10' to list :  [1, 2, 3, 4, 5, 6, 7, 8, 9, 10]\n",
      "removing '1' from list :  [2, 3, 4, 5, 6, 7, 8, 9, 10]\n",
      "removing item in index 3 :  [2, 3, 4, 6, 7, 8, 9, 10]\n",
      "print items in given range :  [2, 3, 4, 6]\n"
     ]
    }
   ],
   "source": [
    "#List\n",
    "\n",
    "l=[1,2,3,4,5,6,7,8,9]\n",
    "print(\"list : \",l)\n",
    "sum=0\n",
    "for i in l:\n",
    "    sum=sum+i\n",
    "print(\"sum of list : \",sum)\n",
    "l.append(10)\n",
    "print(\"adding '10' to list : \",l)\n",
    "l.remove(1)\n",
    "print(\"removing '1' from list : \",l)\n",
    "l.pop(3)\n",
    "print(\"removing item in index 3 : \",l)\n",
    "print(\"print items in given range : \",l[:4])"
   ]
  },
  {
   "cell_type": "code",
   "execution_count": 44,
   "id": "d4221412",
   "metadata": {},
   "outputs": [
    {
     "name": "stdout",
     "output_type": "stream",
     "text": [
      "set :  {1, 2, 3, 4, 5, 6, 7, 8, 9}\n",
      "adding '10' to set :  {1, 2, 3, 4, 5, 6, 7, 8, 9, 10}\n",
      "removing '1' from set :  {2, 3, 4, 5, 6, 7, 8, 9, 10}\n"
     ]
    }
   ],
   "source": [
    "#set\n",
    "\n",
    "s={5,4,1,2,3,9,6,7,8}\n",
    "print(\"set : \",s)\n",
    "s.add(10)\n",
    "print(\"adding '10' to set : \",s)\n",
    "s.remove(1)\n",
    "print(\"removing '1' from set : \",s)\n",
    "    "
   ]
  },
  {
   "cell_type": "code",
   "execution_count": 60,
   "id": "b02b5ffc",
   "metadata": {},
   "outputs": [
    {
     "name": "stdout",
     "output_type": "stream",
     "text": [
      "dictionary :  {1: 'A', 2: 'B', 3: 'C', 4: 'D', 5: 'E'}\n",
      "value in key 1 :  A\n",
      "value in key 6 : False\n",
      "dictionary afer adding value in key 6 :  {1: 'A', 2: 'B', 3: 'C', 4: 'D', 5: 'E', 6: 'F'}\n"
     ]
    }
   ],
   "source": [
    "#dictionary\n",
    "\n",
    "d={1:\"A\",2:\"B\",3:\"C\",4:\"D\",5:\"E\"}\n",
    "print(\"dictionary : \",d)\n",
    "print(\"value in key 1 : \",d[1])\n",
    "print(\"value in key 6 :\",6 in d)\n",
    "d[6]='F'\n",
    "print(\"dictionary afer adding value in key 6 : \",d)"
   ]
  },
  {
   "cell_type": "code",
   "execution_count": 61,
   "id": "373789dd",
   "metadata": {},
   "outputs": [
    {
     "name": "stdout",
     "output_type": "stream",
     "text": [
      "False\n",
      "True\n",
      "False\n"
     ]
    }
   ],
   "source": [
    "#boolen\n",
    "\n",
    "t,f=True,False\n",
    "print(t and f)\n",
    "print(t or f)\n",
    "print(not t)"
   ]
  },
  {
   "cell_type": "code",
   "execution_count": null,
   "id": "5846eb72",
   "metadata": {},
   "outputs": [],
   "source": [
    "#String manipulation\n",
    "\n",
    "s=\"welcome\"\n",
    "print()"
   ]
  }
 ],
 "metadata": {
  "kernelspec": {
   "display_name": "Python 3 (ipykernel)",
   "language": "python",
   "name": "python3"
  },
  "language_info": {
   "codemirror_mode": {
    "name": "ipython",
    "version": 3
   },
   "file_extension": ".py",
   "mimetype": "text/x-python",
   "name": "python",
   "nbconvert_exporter": "python",
   "pygments_lexer": "ipython3",
   "version": "3.11.5"
  }
 },
 "nbformat": 4,
 "nbformat_minor": 5
}
